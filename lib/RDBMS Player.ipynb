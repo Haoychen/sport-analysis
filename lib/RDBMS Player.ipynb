{
 "cells": [
  {
   "cell_type": "code",
   "execution_count": 19,
   "metadata": {
    "collapsed": true
   },
   "outputs": [],
   "source": [
    "import xml.dom.minidom\n",
    "import sqlite3 as lite"
   ]
  },
  {
   "cell_type": "code",
   "execution_count": 20,
   "metadata": {
    "collapsed": true
   },
   "outputs": [],
   "source": [
    "DomTree = xml.dom.minidom.parse('srml-98-2014-squads.xml')\n",
    "DomData = DomTree.documentElement"
   ]
  },
  {
   "cell_type": "code",
   "execution_count": 21,
   "metadata": {
    "collapsed": false
   },
   "outputs": [],
   "source": [
    "timestamp = DomData.getAttribute('timestamp')\n",
    "SoccerDocument = DomData.getElementsByTagName('SoccerDocument')"
   ]
  },
  {
   "cell_type": "code",
   "execution_count": 22,
   "metadata": {
    "collapsed": false
   },
   "outputs": [],
   "source": [
    "con = lite.connect('soccer.db')\n",
    "\n",
    "with con:\n",
    "    cur = con.cursor()\n",
    "    cur.execute(\"CREATE TABLE IF NOT EXISTS Player_Data_Information(timestamp TEXT)\")\n",
    "    try:\n",
    "        cur.execute(\"INSERT INTO Player_Data_Information VALUES(?);\", (timestamp,))\n",
    "    except:\n",
    "        pass\n",
    "    con.commit()"
   ]
  },
  {
   "cell_type": "code",
   "execution_count": 23,
   "metadata": {
    "collapsed": false
   },
   "outputs": [],
   "source": [
    "season_id = SoccerDocument[0].getAttribute('season_id')"
   ]
  },
  {
   "cell_type": "code",
   "execution_count": 24,
   "metadata": {
    "collapsed": false
   },
   "outputs": [],
   "source": [
    "Teams = SoccerDocument[0].getElementsByTagName('Team')"
   ]
  },
  {
   "cell_type": "code",
   "execution_count": 25,
   "metadata": {
    "collapsed": true
   },
   "outputs": [],
   "source": [
    "with con:\n",
    "    cur = con.cursor()\n",
    "    cur.execute(\"CREATE TABLE IF NOT EXISTS Country_Information(country_id INT PRIMARY KEY UNIQUE, country TEXT, country_iso TEXT)\")\n",
    "    cur.execute(\"CREATE TABLE IF NOT EXISTS Region_Information(region_id INT PRIMARY KEY UNIQUE, region_name TEXT)\")\n",
    "    cur.execute(\"CREATE TABLE IF NOT EXISTS Team_Information_Detail(team_id INT PRIMARY KEY UNIQUE, season_id INT, country_id INT, region_id INT, found_time INT)\")\n",
    "    con.commit()"
   ]
  },
  {
   "cell_type": "code",
   "execution_count": 26,
   "metadata": {
    "collapsed": false
   },
   "outputs": [],
   "source": [
    "with con:\n",
    "    cur = con.cursor()\n",
    "    cur.execute(\"CREATE TABLE IF NOT EXISTS Player_vs_Team(player_id INT, team_id INT, season_id INT)\")\n",
    "    cur.execute(\"CREATE TABLE IF NOT EXISTS Player_Stat(player_id INT, season_id INT, name TEXT, position TEXT, first_name TEXT, last_name TEXT, birth_date TEXT, birth_place TEXT, first_nationality TEXT, weight INT, height INT, jersey_num INT, real_position TEXT, real_position_side TEXT, join_date TEXT, leave_date TEXT, new_team TEXT, country TEXT)\")\n",
    "    cur.execute(\"CREATE TABLE IF NOT EXISTS Stadium_Infomation(Statium_id INT PRIMARY KEY UNIQUE, team_id INT, season_id INT, stadium_name TEXT, capacity INT)\")\n",
    "    con.commit()"
   ]
  },
  {
   "cell_type": "code",
   "execution_count": 27,
   "metadata": {
    "collapsed": false
   },
   "outputs": [],
   "source": [
    "for team in Teams:\n",
    "    country = team.getAttribute('country')\n",
    "    country_id = team.getAttribute('country_id')\n",
    "    country_iso = team.getAttribute('country_iso')\n",
    "    region_id = team.getAttribute('region_id')\n",
    "    region_name = team.getAttribute('region_name')\n",
    "    team_id = team.getAttribute('uID')[1:]\n",
    "    found_time = team.getElementsByTagName('Founded')\n",
    "    try:\n",
    "        found_time = found_time[0].firstChild.data\n",
    "    except:\n",
    "        found_time = ''\n",
    "    with con:\n",
    "        cur = con.cursor()\n",
    "        try:\n",
    "            cur.execute(\"INSERT INTO TEAM_Information_Detail VALUES(?, ?, ?, ?, ?);\", (team_id, season_id, country_id, region_id, found_time))\n",
    "        except:\n",
    "            pass\n",
    "        con.commit()\n",
    "    with con:\n",
    "        cur = con.cursor()\n",
    "        try:\n",
    "            cur.execute(\"INSERT INTO Country_Information VALUES(?, ?, ?);\",(country_id, country, country_iso))\n",
    "        except:\n",
    "            pass\n",
    "        con.commit()\n",
    "    with con:\n",
    "        cur = con.cursor()\n",
    "        try:\n",
    "            cur.execute(\"INSERT INTO Region_Information VALUES(?, ?);\",(region_id, region_name))\n",
    "        except:\n",
    "            pass\n",
    "        con.commit()\n",
    "    Players = team.getElementsByTagName('Player')\n",
    "    for player in Players:\n",
    "        player_id = player.getAttribute('uID')[1:]\n",
    "        name = player.getElementsByTagName('Name')\n",
    "        try:\n",
    "            name = name[0].firstChild.data\n",
    "        except:\n",
    "            name = ''\n",
    "        position = player.getElementsByTagName('Position')\n",
    "        try:\n",
    "            position = position[0].firstChild.data\n",
    "        except:\n",
    "            position = ''\n",
    "        stats = player.getElementsByTagName('Stat')\n",
    "        types = {}\n",
    "        for stat in stats:\n",
    "            type = stat.getAttribute('Type')\n",
    "            try:\n",
    "                type_value = stat.firstChild.data\n",
    "            except:\n",
    "                type_value = ''\n",
    "            types[type] = type_value\n",
    "        try:\n",
    "            first_name = types['first_name']\n",
    "        except:\n",
    "            firt_name = ''\n",
    "        try:\n",
    "            last_name = types['last_name']\n",
    "        except:\n",
    "            last_name = ''\n",
    "        try:\n",
    "            birth_date = types['birth_date']\n",
    "        except:\n",
    "            birth_date = ''\n",
    "        try:\n",
    "            birth_place = types['birth_place']\n",
    "        except:\n",
    "            birth_place = ''\n",
    "        try:\n",
    "            first_nationality = types['first_nationality']\n",
    "        except:\n",
    "            first_nationality = ''\n",
    "        try:\n",
    "            weight = types['weight']\n",
    "        except:\n",
    "            weight = ''\n",
    "        try:\n",
    "            height = types['height']\n",
    "        except:\n",
    "            height = ''\n",
    "        try:\n",
    "            jersey_num = types['jersey_num']\n",
    "        except:\n",
    "            jersey_num = ''\n",
    "        try:\n",
    "            real_position = types['real_position']\n",
    "        except:\n",
    "            real_position = ''\n",
    "        try:\n",
    "            real_position_side = types['real_position_side']\n",
    "        except:\n",
    "            real_position_side = ''\n",
    "        try:\n",
    "            join_date = types['join_date']\n",
    "        except:\n",
    "            join_date = ''\n",
    "        try:\n",
    "            leave_date = types['leave_date']\n",
    "        except:\n",
    "            leave_date = ''\n",
    "        try:\n",
    "            new_team = types['new_team']\n",
    "        except:\n",
    "            new_team = ''\n",
    "        country = types['country']\n",
    "        \n",
    "        with con:\n",
    "            cur = con.cursor()\n",
    "            try:\n",
    "                cur.execute(\"INSERT INTO Player_vs_Team VALUES(?, ?, ?);\",(player_id, team_id, season_id))\n",
    "            except:\n",
    "                pass\n",
    "            con.commit()\n",
    "        \n",
    "        with con:\n",
    "            cur = con.cursor()\n",
    "            try:\n",
    "                cur.execute(\"INSERT INTO Player_Stat VALUES(?, ?, ?, ?, ?, ?, ?, ?, ?, ?, ?, ?, ?, ?, ?, ?, ?, ?);\",(player_id, season_id, name, position, first_name, last_name, birth_date, birth_place, first_nationality, weight, height, jersey_num, real_position, real_position_side, join_date, leave_date, new_team, country))\n",
    "            except:\n",
    "                pass\n",
    "            con.commit()\n",
    "    \n",
    "\n",
    "    stadium = team.getElementsByTagName('Stadium')\n",
    "    try:\n",
    "        stadium_id = stadium[0].getAttribute('uID')\n",
    "    except:\n",
    "        stadium_id = ''\n",
    "    try:\n",
    "        stadium_name = stadium[0].getElementsByTagName('Name')[0].firstChild.data\n",
    "    except:\n",
    "        stadium_name =  ''\n",
    "    try:\n",
    "        stadium_capacity = stadium[0].getElementsByTagName('Capacity')\n",
    "    except:\n",
    "        stadium_capacity = ''\n",
    "    try:\n",
    "        stadium_capacity = stadium_capacity[0].firstChild.data\n",
    "    except:\n",
    "        stadium_capacity = ''\n",
    "    \n",
    "    \n",
    "    with con:\n",
    "        cur = con.cursor()\n",
    "        try:\n",
    "            cur.execute(\"INSERT INTO Stadium_Infomation VALUES(?, ?, ?, ?, ?);\",(stadium_id, season_id, team_id, stadium_name, stadium_capacity))\n",
    "        except:\n",
    "            pass\n",
    "        con.commit()\n",
    "            "
   ]
  },
  {
   "cell_type": "code",
   "execution_count": null,
   "metadata": {
    "collapsed": true
   },
   "outputs": [],
   "source": []
  },
  {
   "cell_type": "code",
   "execution_count": null,
   "metadata": {
    "collapsed": false
   },
   "outputs": [],
   "source": []
  },
  {
   "cell_type": "code",
   "execution_count": null,
   "metadata": {
    "collapsed": false
   },
   "outputs": [],
   "source": []
  },
  {
   "cell_type": "code",
   "execution_count": null,
   "metadata": {
    "collapsed": true
   },
   "outputs": [],
   "source": []
  }
 ],
 "metadata": {
  "kernelspec": {
   "display_name": "Python 2",
   "language": "python",
   "name": "python2"
  },
  "language_info": {
   "codemirror_mode": {
    "name": "ipython",
    "version": 2
   },
   "file_extension": ".py",
   "mimetype": "text/x-python",
   "name": "python",
   "nbconvert_exporter": "python",
   "pygments_lexer": "ipython2",
   "version": "2.7.11"
  }
 },
 "nbformat": 4,
 "nbformat_minor": 0
}
