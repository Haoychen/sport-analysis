{
 "cells": [
  {
   "cell_type": "code",
   "execution_count": 53,
   "metadata": {
    "collapsed": true
   },
   "outputs": [],
   "source": [
    "import xml.dom.minidom\n",
    "import sqlite3 as lite"
   ]
  },
  {
   "cell_type": "code",
   "execution_count": 54,
   "metadata": {
    "collapsed": true
   },
   "outputs": [],
   "source": [
    "DomTree = xml.dom.minidom.parse(\"f24-98-2012-429860-eventdetails.xml\")\n",
    "DomData = DomTree.documentElement"
   ]
  },
  {
   "cell_type": "code",
   "execution_count": 55,
   "metadata": {
    "collapsed": true
   },
   "outputs": [],
   "source": [
    "Game = DomData.getElementsByTagName('Game')"
   ]
  },
  {
   "cell_type": "code",
   "execution_count": 56,
   "metadata": {
    "collapsed": false
   },
   "outputs": [],
   "source": [
    "game_id = Game[0].getAttribute('id')\n",
    "timestamp = DomData.getAttribute('timestamp')"
   ]
  },
  {
   "cell_type": "code",
   "execution_count": 57,
   "metadata": {
    "collapsed": false
   },
   "outputs": [],
   "source": [
    "con = lite.connect('soccer.db')\n",
    "\n",
    "with con:\n",
    "    cur = con.cursor()\n",
    "    cur.execute(\"CREATE TABLE Data_Information(id INT PRIMARY KEY UNIQUE, timestamp TEXT)\")\n",
    "    cur.execute(\"INSERT INTO Data_Information VALUES(?,?);\", (game_id, timestamp))\n",
    "    con.commit()"
   ]
  },
  {
   "cell_type": "code",
   "execution_count": 58,
   "metadata": {
    "collapsed": true
   },
   "outputs": [],
   "source": [
    "season_id = Game[0].getAttribute('season_id')\n",
    "season_name = Game[0].getAttribute('season_name')"
   ]
  },
  {
   "cell_type": "code",
   "execution_count": 59,
   "metadata": {
    "collapsed": false
   },
   "outputs": [],
   "source": [
    "with con:\n",
    "    cur = con.cursor()\n",
    "    cur.execute(\"CREATE TABLE Season_Information(season_ID INT PRIMARY KEY UNIQUE, season_name TEXT)\")\n",
    "    cur.execute(\"INSERT INTO Season_Information VALUES(?, ?);\",(season_id, season_name))\n",
    "    con.commit()"
   ]
  },
  {
   "cell_type": "code",
   "execution_count": 60,
   "metadata": {
    "collapsed": true
   },
   "outputs": [],
   "source": [
    "away_team_id = Game[0].getAttribute('away_team_id')\n",
    "away_team_name = Game[0].getAttribute('away_team_name')\n",
    "home_team_id = Game[0].getAttribute('home_team_id')\n",
    "home_team_name = Game[0].getAttribute('home_team_name')"
   ]
  },
  {
   "cell_type": "code",
   "execution_count": 61,
   "metadata": {
    "collapsed": true
   },
   "outputs": [],
   "source": [
    "with con:\n",
    "    cur = con.cursor()\n",
    "    cur.execute(\"CREATE TABLE Team_Information(team_id INT PRIMARY KEY UNIQUE, team_name TEXT)\")\n",
    "    cur.execute(\"INSERT INTO Team_Information VALUES(?, ?);\",(away_team_id, away_team_name))\n",
    "    cur.execute(\"INSERT INTO Team_Information VALUES(?, ?);\",(home_team_id, home_team_name))\n",
    "    con.commit()"
   ]
  },
  {
   "cell_type": "code",
   "execution_count": 62,
   "metadata": {
    "collapsed": false
   },
   "outputs": [],
   "source": [
    "game_date = Game[0].getAttribute('game_date')\n",
    "game_date = game_data.split('T')[0]\n",
    "period_1_start = Game[0].getAttribute('period_1_start')\n",
    "period_1_start = period_1_start.split('T')[1]\n",
    "period_2_start = Game[0].getAttribute('period_2_start')\n",
    "period_2_start = period_2_start.split('T')[1]"
   ]
  },
  {
   "cell_type": "code",
   "execution_count": 63,
   "metadata": {
    "collapsed": true
   },
   "outputs": [],
   "source": [
    "with con:\n",
    "    cur = con.cursor()\n",
    "    cur.execute(\"CREATE TABLE Competition_Information(id INT PRIMARY KEY UNIQUE, away_team_id INT, home_team_id INT, season_id INT, game_date TEXT, period_1_start TEXT, perior_2_start TEXT)\")\n",
    "    cur.execute(\"INSERT INTO Competition_Information VALUES(?, ?, ?, ?, ?, ?, ?);\",(game_id, away_team_id, home_team_id, season_id, game_data, period_1_start, period_2_start))\n",
    "    con.commit()"
   ]
  },
  {
   "cell_type": "code",
   "execution_count": 64,
   "metadata": {
    "collapsed": true
   },
   "outputs": [],
   "source": [
    "Events = Game[0].getElementsByTagName('Event')"
   ]
  },
  {
   "cell_type": "code",
   "execution_count": 67,
   "metadata": {
    "collapsed": false
   },
   "outputs": [
    {
     "ename": "TypeError",
     "evalue": "'str' object is not callable",
     "output_type": "error",
     "traceback": [
      "\u001b[0;31m---------------------------------------------------------------------------\u001b[0m",
      "\u001b[0;31mTypeError\u001b[0m                                 Traceback (most recent call last)",
      "\u001b[0;32m<ipython-input-67-47f8dffe3e00>\u001b[0m in \u001b[0;36m<module>\u001b[0;34m()\u001b[0m\n\u001b[1;32m      1\u001b[0m \u001b[0;32mwith\u001b[0m \u001b[0mcon\u001b[0m\u001b[0;34m:\u001b[0m\u001b[0;34m\u001b[0m\u001b[0m\n\u001b[0;32m----> 2\u001b[0;31m     \u001b[0mcur\u001b[0m \u001b[0;34m=\u001b[0m \u001b[0mcon\u001b[0m\u001b[0;34m.\u001b[0m\u001b[0mcursor\u001b[0m\u001b[0;34m(\u001b[0m\u001b[0;34m\"CREATE TABLE Event_Information(id INT PRIMARY KEY UNIQUE, game_id INT, event_id INT, type_id INT, period_id INT, min INT, sec INT, team_id INT, outcome INT, x REAL, y REAL, timestamp TEXT, last_modified TEXT)\"\u001b[0m\u001b[0;34m)\u001b[0m\u001b[0;34m\u001b[0m\u001b[0m\n\u001b[0m\u001b[1;32m      3\u001b[0m     \u001b[0mcur\u001b[0m \u001b[0;34m=\u001b[0m \u001b[0mcon\u001b[0m\u001b[0;34m.\u001b[0m\u001b[0mcursor\u001b[0m\u001b[0;34m(\u001b[0m\u001b[0;34m\"CREATE TABLE Q_Information(Q_id INT PRIMARY KEY UNIQUE, event_id INT, qualified_id INT, value TEXT)\"\u001b[0m\u001b[0;34m)\u001b[0m\u001b[0;34m\u001b[0m\u001b[0m\n\u001b[1;32m      4\u001b[0m     \u001b[0mcur\u001b[0m\u001b[0;34m.\u001b[0m\u001b[0mexecute\u001b[0m\u001b[0;34m(\u001b[0m\u001b[0;34m)\u001b[0m\u001b[0;34m\u001b[0m\u001b[0m\n",
      "\u001b[0;31mTypeError\u001b[0m: 'str' object is not callable"
     ]
    }
   ],
   "source": [
    "with con:\n",
    "    cur = con.cursor(\"CREATE TABLE Event_Information(id INT PRIMARY KEY UNIQUE, game_id INT, event_id INT, type_id INT, period_id INT, min INT, sec INT, team_id INT, outcome INT, x REAL, y REAL, timestamp TEXT, last_modified TEXT)\")\n",
    "    cur = con.cursor(\"CREATE TABLE Q_Information(Q_id INT PRIMARY KEY UNIQUE, event_id INT, qualified_id INT, value TEXT)\")\n",
    "    cur.execute()"
   ]
  },
  {
   "cell_type": "code",
   "execution_count": null,
   "metadata": {
    "collapsed": true
   },
   "outputs": [],
   "source": []
  }
 ],
 "metadata": {
  "kernelspec": {
   "display_name": "Python 2",
   "language": "python",
   "name": "python2"
  },
  "language_info": {
   "codemirror_mode": {
    "name": "ipython",
    "version": 2
   },
   "file_extension": ".py",
   "mimetype": "text/x-python",
   "name": "python",
   "nbconvert_exporter": "python",
   "pygments_lexer": "ipython2",
   "version": "2.7.11"
  }
 },
 "nbformat": 4,
 "nbformat_minor": 0
}
