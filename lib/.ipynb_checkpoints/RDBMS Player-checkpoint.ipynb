{
 "cells": [
  {
   "cell_type": "code",
   "execution_count": 1,
   "metadata": {
    "collapsed": true
   },
   "outputs": [],
   "source": [
    "import xml.dom.minidom\n",
    "import sqlite3 as lite"
   ]
  },
  {
   "cell_type": "code",
   "execution_count": 2,
   "metadata": {
    "collapsed": true
   },
   "outputs": [],
   "source": [
    "DomTree = xml.dom.minidom.parse('srml-98-2012-squads.xml')\n",
    "DomData = DomTree.documentElement"
   ]
  },
  {
   "cell_type": "code",
   "execution_count": 15,
   "metadata": {
    "collapsed": false
   },
   "outputs": [],
   "source": [
    "timestamp = DomData.getAttribute('timestamp')\n",
    "SoccerDocument = DomData.getElementsByTagName('SoccerDocument')"
   ]
  },
  {
   "cell_type": "code",
   "execution_count": 12,
   "metadata": {
    "collapsed": false
   },
   "outputs": [],
   "source": [
    "con = lite.connect('soccer.db')\n",
    "\n",
    "with con:\n",
    "    cur = con.cursor()\n",
    "    cur.execute(\"CREATE TABLE IF NOT EXISTS Player_Data_Information(timestamp TEXT)\")\n",
    "    try:\n",
    "        cur.execute(\"INSERT INTO Player_Data_Information VALUES(?);\", (timestamp,))\n",
    "    except:\n",
    "        pass\n",
    "    con.commit()"
   ]
  },
  {
   "cell_type": "code",
   "execution_count": 16,
   "metadata": {
    "collapsed": false
   },
   "outputs": [],
   "source": [
    "season_id = SoccerDocument[0].getAttribute('season_id')"
   ]
  },
  {
   "cell_type": "code",
   "execution_count": 18,
   "metadata": {
    "collapsed": false
   },
   "outputs": [],
   "source": [
    "Teams = SoccerDocument[0].getElementsByTagName('Team')"
   ]
  },
  {
   "cell_type": "code",
   "execution_count": 48,
   "metadata": {
    "collapsed": true
   },
   "outputs": [],
   "source": [
    "with con:\n",
    "    cur = con.cursor()\n",
    "    cur.execute(\"CREATE TABLE IF NOT EXISTS Country_Information(country_id INT PRIMARY KEY UNIQUE, country TEXT, country_iso TEXT)\")\n",
    "    cur.execute(\"CREATE TABLE IF NOT EXISTS Region_Information(region_id INT PRIMARY KEY UNIQUE, region_name TEXT)\")\n",
    "    cur.execute(\"CREATE TABLE IF NOT EXISTS Team_Information_Detail(team_id INT PRIMARY KEY UNIQUE, season_id INT, country_id INT, region_id INT, found_time INT)\")\n",
    "    con.commit()"
   ]
  },
  {
   "cell_type": "code",
   "execution_count": null,
   "metadata": {
    "collapsed": true
   },
   "outputs": [],
   "source": [
    "with con:\n",
    "    cur = con.cursor()\n",
    "    cur.execute(\"CREATE TABLE IF NOT EXISTS Player v.s. Team(player_id INT, team_id INT, season_id INT)\")\n",
    "    con.commit()"
   ]
  },
  {
   "cell_type": "code",
   "execution_count": 47,
   "metadata": {
    "collapsed": false
   },
   "outputs": [
    {
     "name": "stdout",
     "output_type": "stream",
     "text": [
      "1998\n",
      "\n",
      "1996\n",
      "1996\n",
      "1996\n",
      "\n",
      "\n",
      "1996\n",
      "\n",
      "1996\n",
      "1996\n",
      "\n",
      "\n",
      "\n",
      "1996\n",
      "\n",
      "1996\n",
      "\n",
      "1974\n",
      "\n",
      "\n",
      "\n",
      "\n",
      "\n",
      "\n",
      "\n",
      "\n",
      "\n",
      "\n",
      "\n",
      "\n",
      "\n",
      "\n",
      "\n",
      "\n",
      "\n",
      "\n",
      "\n"
     ]
    }
   ],
   "source": [
    "for team in Teams:\n",
    "    country = team.getAttribute('country')\n",
    "    country_id = team.getAttribute('country_id')\n",
    "    country_iso = team.getAttribute('country_iso')\n",
    "    region_id = team.getAttribute('region_id')\n",
    "    region_name = team.getAttribute('region_name')\n",
    "    team_id = team.getAttribute('uID')[1:]\n",
    "    found_time = team.getElementsByTagName('Founded')\n",
    "    try:\n",
    "        found_time = found_time[0].firstChild.data\n",
    "    except:\n",
    "        found_time = ''\n",
    "    with con:\n",
    "        cur = con.cursor()\n",
    "        try:\n",
    "            cur.execute(\"INSERT INTO TEAM_Information_Detail VALUES(?, ?, ?, ?, ?);\", (team_id, season_id, country_id, region_id, found_time))\n",
    "        except:\n",
    "            pass\n",
    "        con.commit()\n",
    "    with con:\n",
    "        cur = con.cursor()\n",
    "        try:\n",
    "            cur.execute(\"INSERT INTO Country_Information VALUES(?, ?, ?);\",(country_id, country, country_iso))\n",
    "        except:\n",
    "            pass\n",
    "        con.commit()\n",
    "    with con:\n",
    "        cur = con.cursor()\n",
    "        try:\n",
    "            cur.execute(\"INSERT INTO Region_Information VALUES(?, ?);\",(region_id, region_name))\n",
    "        except:\n",
    "            pass\n",
    "        con.commit()\n",
    "    Players = team.getElementsByTagName('Player')\n",
    "    for player in Players:\n",
    "        player_id = player.getAttribute('uID')[1:]\n",
    "        name = player.getElementsByTagName('Name')\n",
    "        try:\n",
    "            name = name[0].firstChild.data\n",
    "        except:\n",
    "            name = ''\n",
    "        position = player.getElementsByTagName('Position')\n",
    "        try:\n",
    "            position = position[0].firstChild.data\n",
    "        except:\n",
    "            position = ''\n",
    "        stats = player.getElementsByTagName('Stat')"
   ]
  },
  {
   "cell_type": "code",
   "execution_count": 19,
   "metadata": {
    "collapsed": false
   },
   "outputs": [
    {
     "data": {
      "text/plain": [
       "'123123'"
      ]
     },
     "execution_count": 19,
     "metadata": {},
     "output_type": "execute_result"
    }
   ],
   "source": []
  },
  {
   "cell_type": "code",
   "execution_count": null,
   "metadata": {
    "collapsed": true
   },
   "outputs": [],
   "source": []
  }
 ],
 "metadata": {
  "kernelspec": {
   "display_name": "Python 2",
   "language": "python",
   "name": "python2"
  },
  "language_info": {
   "codemirror_mode": {
    "name": "ipython",
    "version": 2
   },
   "file_extension": ".py",
   "mimetype": "text/x-python",
   "name": "python",
   "nbconvert_exporter": "python",
   "pygments_lexer": "ipython2",
   "version": "2.7.11"
  }
 },
 "nbformat": 4,
 "nbformat_minor": 0
}
