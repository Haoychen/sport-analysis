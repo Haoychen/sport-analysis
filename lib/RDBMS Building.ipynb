{
 "cells": [
  {
   "cell_type": "code",
   "execution_count": 169,
   "metadata": {
    "collapsed": true
   },
   "outputs": [],
   "source": [
    "import xml.dom.minidom\n",
    "import sqlite3 as lite"
   ]
  },
  {
   "cell_type": "code",
   "execution_count": 170,
   "metadata": {
    "collapsed": true
   },
   "outputs": [],
   "source": [
    "DomTree = xml.dom.minidom.parse(\"f24-98-2013-732711-eventdetails.xml\")\n",
    "DomData = DomTree.documentElement"
   ]
  },
  {
   "cell_type": "code",
   "execution_count": 171,
   "metadata": {
    "collapsed": true
   },
   "outputs": [],
   "source": [
    "Game = DomData.getElementsByTagName('Game')"
   ]
  },
  {
   "cell_type": "code",
   "execution_count": 172,
   "metadata": {
    "collapsed": false
   },
   "outputs": [],
   "source": [
    "game_id = Game[0].getAttribute('id')\n",
    "timestamp = DomData.getAttribute('timestamp')"
   ]
  },
  {
   "cell_type": "code",
   "execution_count": 173,
   "metadata": {
    "collapsed": false
   },
   "outputs": [],
   "source": [
    "con = lite.connect('soccer.db')\n",
    "\n",
    "with con:\n",
    "    cur = con.cursor()\n",
    "    cur.execute(\"CREATE TABLE IF NOT EXISTS Data_Information(id INT PRIMARY KEY UNIQUE, timestamp TEXT)\")\n",
    "    try:\n",
    "        cur.execute(\"INSERT INTO Data_Information VALUES(?,?);\", (game_id, timestamp))\n",
    "    except:\n",
    "        pass\n",
    "    con.commit()"
   ]
  },
  {
   "cell_type": "code",
   "execution_count": 174,
   "metadata": {
    "collapsed": true
   },
   "outputs": [],
   "source": [
    "season_id = Game[0].getAttribute('season_id')\n",
    "season_name = Game[0].getAttribute('season_name')"
   ]
  },
  {
   "cell_type": "code",
   "execution_count": 175,
   "metadata": {
    "collapsed": false
   },
   "outputs": [],
   "source": [
    "with con:\n",
    "    cur = con.cursor()\n",
    "    cur.execute(\"CREATE TABLE IF NOT EXISTS Season_Information(season_ID INT PRIMARY KEY UNIQUE, season_name TEXT)\")\n",
    "    try:\n",
    "        cur.execute(\"INSERT INTO Season_Information VALUES(?, ?);\",(season_id, season_name))\n",
    "    except:\n",
    "        pass\n",
    "    con.commit()"
   ]
  },
  {
   "cell_type": "code",
   "execution_count": 176,
   "metadata": {
    "collapsed": true
   },
   "outputs": [],
   "source": [
    "away_team_id = Game[0].getAttribute('away_team_id')\n",
    "away_team_name = Game[0].getAttribute('away_team_name')\n",
    "home_team_id = Game[0].getAttribute('home_team_id')\n",
    "home_team_name = Game[0].getAttribute('home_team_name')"
   ]
  },
  {
   "cell_type": "code",
   "execution_count": 177,
   "metadata": {
    "collapsed": true
   },
   "outputs": [],
   "source": [
    "with con:\n",
    "    cur = con.cursor()\n",
    "    cur.execute(\"CREATE TABLE IF NOT EXISTS Team_Information(team_id INT PRIMARY KEY UNIQUE, team_name TEXT)\")\n",
    "    try:\n",
    "        cur.execute(\"INSERT INTO Team_Information VALUES(?, ?);\",(away_team_id, away_team_name))\n",
    "    except:\n",
    "        pass\n",
    "    try:\n",
    "        cur.execute(\"INSERT INTO Team_Information VALUES(?, ?);\",(home_team_id, home_team_name))\n",
    "    except:\n",
    "        pass\n",
    "    con.commit()"
   ]
  },
  {
   "cell_type": "code",
   "execution_count": 178,
   "metadata": {
    "collapsed": false
   },
   "outputs": [],
   "source": [
    "game_date = Game[0].getAttribute('game_date')\n",
    "game_date = game_date.split('T')[0]\n",
    "period_1_start = Game[0].getAttribute('period_1_start')\n",
    "period_1_start = period_1_start.split('T')[1]\n",
    "period_2_start = Game[0].getAttribute('period_2_start')\n",
    "period_2_start = period_2_start.split('T')[1]"
   ]
  },
  {
   "cell_type": "code",
   "execution_count": 179,
   "metadata": {
    "collapsed": false
   },
   "outputs": [],
   "source": [
    "with con:\n",
    "    cur = con.cursor()\n",
    "    cur.execute(\"CREATE TABLE IF NOT EXISTS Competition_Information(id INT PRIMARY KEY UNIQUE, away_team_id INT, home_team_id INT, season_id INT, game_date TEXT, period_1_start TEXT, perior_2_start TEXT)\")\n",
    "    try:\n",
    "        cur.execute(\"INSERT INTO Competition_Information VALUES(?, ?, ?, ?, ?, ?, ?);\",(game_id, away_team_id, home_team_id, season_id, game_date, period_1_start, period_2_start))\n",
    "    except:\n",
    "        pass\n",
    "    con.commit()"
   ]
  },
  {
   "cell_type": "code",
   "execution_count": 180,
   "metadata": {
    "collapsed": true
   },
   "outputs": [],
   "source": [
    "Events = Game[0].getElementsByTagName('Event')"
   ]
  },
  {
   "cell_type": "code",
   "execution_count": 181,
   "metadata": {
    "collapsed": false
   },
   "outputs": [],
   "source": [
    "with con:\n",
    "    cur = con.cursor()\n",
    "    cur.execute(\"CREATE TABLE IF NOT EXISTS Event_Information(id INT PRIMARY KEY UNIQUE, game_id INT, event_id INT, type_id INT, period_id INT, min INT, sec INT, player_id INT, team_id INT, outcome INT, x REAL, y REAL, keypass INT, timestamp TEXT, last_modified TEXT)\")\n",
    "    cur.execute(\"CREATE TABLE IF NOT EXISTS Q_Information(Q_id INT PRIMARY KEY UNIQUE, event_id INT, qualified_id INT, value TEXT)\")\n",
    "    con.commit()"
   ]
  },
  {
   "cell_type": "code",
   "execution_count": 182,
   "metadata": {
    "collapsed": true
   },
   "outputs": [],
   "source": [
    "for event in Events:\n",
    "    a_event_id = event.getAttribute('id')\n",
    "    event_id = event.getAttribute('event_id')\n",
    "    type_id = event.getAttribute('type_id')\n",
    "    period_id = event.getAttribute('period_id')\n",
    "    min = event.getAttribute('min')\n",
    "    sec = event.getAttribute('sec')\n",
    "    team_id = event.getAttribute('team_id')\n",
    "    player_id = event.getAttribute('player_id')\n",
    "    outcome = event.getAttribute('outcome')\n",
    "    x = event.getAttribute('x')\n",
    "    y = event.getAttribute('y')\n",
    "    keypass = event.getAttribute('keypass')\n",
    "    timestamp = event.getAttribute('timestamp')\n",
    "    last_modified = event.getAttribute('last_modified')\n",
    "    with con:\n",
    "        cur = con.cursor()\n",
    "        try:\n",
    "            cur.execute(\"INSERT INTO Event_Information VALUES(?, ?, ?, ?, ?, ?, ?, ?, ?, ?, ?, ?, ?, ?, ?);\",(a_event_id,  game_id, event_id, type_id, period_id, min, sec, player_id, team_id, outcome, x, y, keypass, timestamp, last_modified))\n",
    "        except:\n",
    "            pass\n",
    "        con.commit()\n",
    "    Qs = event.getElementsByTagName('Q')\n",
    "    for Q in Qs:\n",
    "        Q_id = Q.getAttribute('id')\n",
    "        qualifier_id = Q.getAttribute('qualifier_id')\n",
    "        value = Q.getAttribute('value')\n",
    "        with con:\n",
    "            cur = con.cursor()\n",
    "            try:\n",
    "                cur.execute(\"INSERT INTO Q_Information VALUES(?, ?, ?, ?);\",(Q_id, a_event_id, qualifier_id, value))\n",
    "            except:\n",
    "                pass"
   ]
  }
 ],
 "metadata": {
  "kernelspec": {
   "display_name": "Python 2",
   "language": "python",
   "name": "python2"
  },
  "language_info": {
   "codemirror_mode": {
    "name": "ipython",
    "version": 2
   },
   "file_extension": ".py",
   "mimetype": "text/x-python",
   "name": "python",
   "nbconvert_exporter": "python",
   "pygments_lexer": "ipython2",
   "version": "2.7.11"
  }
 },
 "nbformat": 4,
 "nbformat_minor": 0
}
